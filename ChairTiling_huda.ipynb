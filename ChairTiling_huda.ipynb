{
 "cells": [
  {
   "cell_type": "code",
   "execution_count": 2,
   "id": "adcacb25-63bf-4773-a97a-7c2429f851a2",
   "metadata": {
    "collapsed": false
   },
   "outputs": [
   ],
   "source": [
    "#imports go here\n",
    "\n",
    "from sage.plot.polygon import Polygon\n",
    "from sage.plot.colors import rainbow"
   ]
  },
  {
   "cell_type": "code",
   "execution_count": 9,
   "id": "b55d5ee7-0fb5-42d3-bb1a-015b75954dee",
   "metadata": {
    "collapsed": false
   },
   "outputs": [
   ],
   "source": [
    "\"\"\"\n",
    "There are two problems we want to solve:\n",
    "1) How large of a supertile must we compute to find all of the 1-collared prototiles?\n",
    "2) How can we generate all of the 1-collared prototiles from a large enough subsection of the tiling?\n",
    "\n",
    "Also, we want to be able to do this for other types of tilings, not just those that use vertical/horizontal\n",
    "lines to construct the prototiles. For instance, https://tilings.math.uni-bielefeld.de/substitution/binary/\n",
    "uses rhombuses with internal angles either in {pi/5, 3pi/5} or {2pi/5, 4pi/5}\n",
    "\n",
    "For now, the focus will be on representing tilings as a collection of objects rather than as a graphics\n",
    "object, as this will save computing power and the resulting collections can just be graphed after being\n",
    "generated. Once we can generate large supertile objects, we can start to write functions that generate\n",
    "the possible collars of a set of prototiles.\n",
    "\"\"\"\n",
    "\n",
    "class ChairTile:\n",
    "    \n",
    "    # We define a supertile by:\n",
    "    # level, i.e. n where the supertile is L_n\n",
    "    # orientation as a multiple of pi describing rotation around its center\n",
    "    # origin, describing where to place this tile when moving up a level. The origin is the point that stays fixed\n",
    "    #     when moving up a level.\n",
    "    def __init__(self, level: int, orientation: RR, origin: vector):\n",
    "        self.points = []\n",
    "        self.level = level\n",
    "        self.orientation = orientation\n",
    "        self.origin = origin\n",
    "\n",
    "        if (level < 0):\n",
    "            raise Exception(\"Level must be a non-negative integer.\")\n",
    "        \n",
    "        if (level == 0):\n",
    "            self.points = [vector((0 + origin[0], 0 + origin[1])), \n",
    "                           vector((2 + origin[0], 0 + origin[1])), \n",
    "                           vector((2 + origin[0], 1 + origin[1])), \n",
    "                           vector((1 + origin[0], 1 + origin[1])), \n",
    "                           vector((1 + origin[0], 2 + origin[1])), \n",
    "                           vector((0 + origin[0], 2 + origin[1]))]\n",
    "            self.rotate_tile(self.origin, self.orientation)\n",
    "\n",
    "        else:\n",
    "            # If this is a supertile, we consider it to be the collection of all the prototiles that make it up\n",
    "            self.subtiles = []\n",
    "            R = rotation_matrix(self.orientation)\n",
    "            \n",
    "            st_1 = ChairTile(level - 1, self.orientation, origin)\n",
    "            st_2 = ChairTile(level - 1, self.orientation, origin + R*vector((2**(level - 1), 2**(level - 1))))\n",
    "            st_3 = ChairTile(level - 1, self.orientation + pi/2, origin + R*vector ((2** (level + 1), 0)))\n",
    "            st_4 = ChairTile(level - 1, self.orientation + 3*pi/2, origin + R*vector((0, 2** (level + 1))))\n",
    "\n",
    "            self.subtiles.append(st_1)\n",
    "            self.subtiles.append(st_2)\n",
    "            self.subtiles.append(st_3)\n",
    "            self.subtiles.append(st_4)\n",
    "\n",
    "        \n",
    "\n",
    "    # Rotates a tile around center by theta degrees, clockwise\n",
    "    def rotate_tile(self, center, theta):\n",
    "        if (theta == 0):\n",
    "            return\n",
    "        R = rotation_matrix(theta)\n",
    "        pts = [R*vector((self.points[i][0]-center[0],self.points[i][1]-center[1])) for i in range(len(self.points))]\n",
    "        self.points = [(pts[i][0]+center[0],pts[i][1]+center[1]) for i in range(len(self.points))]\n",
    "    \n",
    "    def iterate_subtiles(self):\n",
    "        if self.level >> 0:\n",
    "            for s in self.subtiles:\n",
    "                \n",
    "    \n",
    "    # Graphs all tiles in supertile recursively\n",
    "    def graph(self):\n",
    "        P = Graphics()\n",
    "        if self.level >> 0:\n",
    "            for s in self.subtiles:\n",
    "                P += s.graph()\n",
    "        else:\n",
    "            P += polygon(self.points, fill=False)\n",
    "        \n",
    "        return P\n",
    "    \n",
    "    # Given a supertile, finds the relevant verticies on the inner edges\n",
    "    # these vertices will be used to find the tiles on the growing edge of the supertile\n",
    "    # i.e. the tiles for which we can find a 1-collar!\n",
    "    # uh this only works for orientation = 0 supertiles, whoops\n",
    "    def find_corner_points(self):\n",
    "        self.corner_points = []\n",
    "        \n",
    "        # There is the vertical edge, and the horizontal edge.\n",
    "        # We will order the points from the topmost on the vertical\n",
    "        # edge, all the way around to the rightmost on the horizontal edge\n",
    "        \n",
    "        # Number of vertices on each edge, minus\n",
    "        # the two annoying innermost corner points\n",
    "        num = 2**(self.level-1)\n",
    "        \n",
    "        # Starts at top point of the vertical edge\n",
    "        x, y = (2**(self.level), 2**(self.level+1))\n",
    "        \n",
    "        # Iterate through vertical edge\n",
    "        for n in range(0, num):\n",
    "            self.corner_points.append((self.origin[0] + x, self.origin[1] + y - 2*n))\n",
    "        \n",
    "        # Add on the two annoying innermost corner vertices!\n",
    "        self.corner_points.append((self.origin[0] + 2**(self.level), self.origin[1] + 2**(self.level) + 1))\n",
    "        self.corner_points.append((self.origin[0] + 2**(self.level) + 1, self.origin[1] + 2**(self.level)))\n",
    "        \n",
    "        # Now, we are on the horizonal edge!\n",
    "        x, y = (2**(self.level) + 2, 2**(self.level))\n",
    "        \n",
    "        # Iterate through vertices on horizontal edge\n",
    "        for m in range(0, num):\n",
    "            self.corner_points.append((self.origin[0] + x + 2*n, self.origin[1] + y))\n",
    "        \n",
    "        # Done!\n",
    "        return\n",
    "    \n",
    "# quickly get rotation matrix for an angle, just for convenience\n",
    "def rotation_matrix(theta):\n",
    "    R = matrix(2,2,[cos(theta),-sin(theta),sin(theta),cos(theta)])\n",
    "    return R\n",
    "\n",
    "\n",
    "# Not sure if I should include the next two functions in the class or not...\n",
    "\n",
    "# Ok so the plan here is that I iterate through every point in self.corner_points\n",
    "# and I search all tiles in the supertile and the supertile + (2**level, 2**level)\n",
    "# and see which ones have said point. Then, I search my narrowed down list for the tiles\n",
    "# that ALSO have the next point in my self.corner_points list. This way, I find the tiles that\n",
    "# share an edge with the corner edge. This is the most efficient way I came up with, not sure if\n",
    "# there is a better way.\n",
    "def find_tiles(supertile: ChairTile):\n",
    "    return\n",
    "\n",
    "\n",
    "# For each tile, we can run this function to find it's 1-collar\n",
    "def find_collar(supertile: ChairTile, tile: ChairTile)\n",
    "    return\n",
    "                \n",
    "        "
   ]
  },
  {
   "cell_type": "code",
   "execution_count": 0,
   "id": "54c938",
   "metadata": {
    "collapsed": false
   },
   "outputs": [
   ],
   "source": [
   ]
  },
  {
   "cell_type": "code",
   "execution_count": 16,
   "id": "91291bac-65f2-485a-994f-4d9fbd3a0d95",
   "metadata": {
    "collapsed": false
   },
   "outputs": [
    {
     "data": {
      "image/png": "[encoded data removed]",
      "text/plain": [
       "Graphics object consisting of 257 graphics primitives"
      ]
     },
     "execution_count": 16,
     "metadata": {
     },
     "output_type": "execute_result"
    }
   ],
   "source": [
    "p = ChairTile(4, 0, vector((1,1)))\n",
    "p.find_corner_points()\n",
    "cp = line(p.corner_points, thickness = 2, rgbcolor = (1, 0, 0))\n",
    "P = p.graph() + cp\n",
    "show(P)\n"
   ]
  }
 ],
 "metadata": {
  "kernelspec": {
   "argv": [
    "sage-10.4",
    "--python",
    "-m",
    "sage.repl.ipython_kernel",
    "--matplotlib=inline",
    "-f",
    "{connection_file}"
   ],
   "display_name": "SageMath 10.4",
   "env": {
   },
   "language": "sagemath",
   "metadata": {
    "cocalc": {
     "description": "Open-source mathematical software system",
     "priority": 10,
     "url": "https://www.sagemath.org/"
    }
   },
   "name": "sage-10.4",
   "resource_dir": "/ext/jupyter/kernels/sage-10.4"
  },
  "language_info": {
   "codemirror_mode": {
    "name": "ipython",
    "version": 3
   },
   "file_extension": ".py",
   "mimetype": "text/x-python",
   "name": "python",
   "nbconvert_exporter": "python",
   "pygments_lexer": "ipython3",
   "version": "3.12.4"
  }
 },
 "nbformat": 4,
 "nbformat_minor": 4
}